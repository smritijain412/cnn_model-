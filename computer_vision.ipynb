{
  "nbformat": 4,
  "nbformat_minor": 0,
  "metadata": {
    "colab": {
      "name": "computer vision.ipynb",
      "provenance": [],
      "private_outputs": true,
      "collapsed_sections": []
    },
    "kernelspec": {
      "name": "python3",
      "display_name": "Python 3"
    },
    "accelerator": "GPU"
  },
  "cells": [
    {
      "cell_type": "code",
      "metadata": {
        "id": "1BGfCgUhxw8T",
        "colab_type": "code",
        "colab": {}
      },
      "source": [
        "from IPython.display import display, Javascript\n",
        "from google.colab.output import eval_js\n",
        "from base64 import b64decode\n",
        "\n",
        "def take_photo(filename='photo.jpg', quality=0.8):\n",
        "  js = Javascript('''\n",
        "    async function takePhoto(quality) {\n",
        "      const div = document.createElement('div');\n",
        "      const capture = document.createElement('button');\n",
        "      capture.textContent = 'Capture';\n",
        "      div.appendChild(capture);\n",
        "\n",
        "      const video = document.createElement('video');\n",
        "      video.style.display = 'block';\n",
        "      const stream = await navigator.mediaDevices.getUserMedia({video: true});\n",
        "\n",
        "      document.body.appendChild(div);\n",
        "      div.appendChild(video);\n",
        "      video.srcObject = stream;\n",
        "      await video.play();\n",
        "\n",
        "      // Resize the output to fit the video element.\n",
        "      google.colab.output.setIframeHeight(document.documentElement.scrollHeight, true);\n",
        "\n",
        "      // Wait for Capture to be clicked.\n",
        "      await new Promise((resolve) => capture.onclick = resolve);\n",
        "\n",
        "      const canvas = document.createElement('canvas');\n",
        "      canvas.width = video.videoWidth;\n",
        "      canvas.height = video.videoHeight;\n",
        "      canvas.getContext('2d').drawImage(video, 0, 0);\n",
        "      stream.getVideoTracks()[0].stop();\n",
        "      div.remove();\n",
        "      return canvas.toDataURL('image/jpeg', quality);\n",
        "    }\n",
        "    ''')\n",
        "  display(js)\n",
        "  data = eval_js('takePhoto({})'.format(quality))\n",
        "  binary = b64decode(data.split(',')[1])\n",
        "  with open(filename, 'wb') as f:\n",
        "    f.write(binary)\n",
        "  return filename"
      ],
      "execution_count": null,
      "outputs": []
    },
    {
      "cell_type": "code",
      "metadata": {
        "id": "6hZpqFNAxw7S",
        "colab_type": "code",
        "colab": {}
      },
      "source": [
        "from IPython.display import Image\n",
        "try:\n",
        "  filename = take_photo()\n",
        "  print('Saved to {}'.format(filename))\n",
        "  \n",
        "  # Show the image which was just taken.\n",
        "  display(Image(filename))\n",
        "except Exception as err:\n",
        "  # Errors will be thrown if the user does not have a webcam or if they do not\n",
        "  # grant the page permission to access it.\n",
        "  print(str(err))"
      ],
      "execution_count": null,
      "outputs": []
    },
    {
      "cell_type": "code",
      "metadata": {
        "id": "H_2lCPQGs6KK",
        "colab_type": "code",
        "colab": {}
      },
      "source": [
        "pic=Image(filename)"
      ],
      "execution_count": null,
      "outputs": []
    },
    {
      "cell_type": "code",
      "metadata": {
        "id": "enDIHZ0KocOs",
        "colab_type": "code",
        "colab": {}
      },
      "source": [
        "pic"
      ],
      "execution_count": null,
      "outputs": []
    },
    {
      "cell_type": "code",
      "metadata": {
        "id": "Fs4P40iN8oCZ",
        "colab_type": "code",
        "colab": {}
      },
      "source": [
        "# You can also write temporary files to /kaggle/temp/, but they won't be saved outside of the current session\n",
        "import tensorflow as tf\n",
        "#Convolutional Neural Network (cifar10 )\n",
        "\n",
        "# Building the CNN\n",
        "\n",
        "# Importing the Keras libraries and packages\n",
        "from keras.models import Sequential\n",
        "from keras.layers import Conv2D,MaxPooling2D,Flatten,Dense,Dropout,BatchNormalization,Activation,MaxPool2D\n",
        "from tensorflow.keras.callbacks import ModelCheckpoint\n",
        "from keras.utils import np_utils\n",
        "from sklearn.model_selection import train_test_split\n",
        "from keras.datasets import mnist\n",
        "from keras.utils import np_utils"
      ],
      "execution_count": null,
      "outputs": []
    },
    {
      "cell_type": "code",
      "metadata": {
        "id": "9NTMlVKL9g6B",
        "colab_type": "code",
        "colab": {}
      },
      "source": [
        "(X_train, y_train), (X_test, y_test) = mnist.load_data()\n"
      ],
      "execution_count": null,
      "outputs": []
    },
    {
      "cell_type": "code",
      "metadata": {
        "id": "p_mNetZZ9jIU",
        "colab_type": "code",
        "colab": {}
      },
      "source": [
        "\n",
        "\n",
        "print('Training set shape:', X_train.shape)\n",
        "print('Test set shape:', X_test.shape)\n",
        "\n",
        "X_train = X_train.astype('float32')\n",
        "X_test = X_test.astype('float32')\n",
        "X_train = X_train / 255.0\n",
        "X_test = X_test / 255.0\n",
        "X_train=X_train.reshape(-1,28,28,1)\n",
        "X_test=X_test.reshape(-1,28,28,1)\n",
        "num_classes=10\n",
        "y_train = np_utils.to_categorical(y_train, num_classes)\n",
        "y_test = np_utils.to_categorical(y_test, num_classes)\n",
        "from sklearn.model_selection import train_test_split\n",
        "X_train, X_valid, y_train, y_valid = train_test_split(X_train, y_train, test_size=0.2)\n",
        "X_test.shape\n",
        "print(y_train[0])\n",
        "model=Sequential()"
      ],
      "execution_count": null,
      "outputs": []
    },
    {
      "cell_type": "code",
      "metadata": {
        "id": "XFZrG-31h9wh",
        "colab_type": "code",
        "colab": {}
      },
      "source": [
        "X_test.shape"
      ],
      "execution_count": null,
      "outputs": []
    },
    {
      "cell_type": "code",
      "metadata": {
        "id": "h_qlY-uk9lt5",
        "colab_type": "code",
        "colab": {}
      },
      "source": [
        "#1\n",
        "model.add(Conv2D(filters = 16, kernel_size = (3, 3), activation='relu',\n",
        "                 input_shape = (28, 28, 1)))\n",
        "model.add(BatchNormalization())\n",
        "#2\n",
        "model.add(Conv2D(filters = 16, kernel_size = (3, 3), activation='relu'))\n",
        "model.add(BatchNormalization())\n",
        "#3\n",
        "model.add(Conv2D(filters = 16, kernel_size = (3, 3), activation='relu'))\n",
        "model.add(BatchNormalization())\n",
        "#4\n",
        "model.add(Conv2D(filters = 16, kernel_size = (3, 3), activation='relu'))\n",
        "model.add(BatchNormalization())\n",
        "model.add(MaxPool2D(strides=(2,2)))\n",
        "model.add(Dropout(0.25))\n",
        "#5\n",
        "model.add(Conv2D(filters = 32, kernel_size = (3, 3), activation='relu'))\n",
        "model.add(BatchNormalization())\n",
        "model.add(MaxPool2D(strides=(2,2)))\n",
        "model.add(Dropout(0.25))\n",
        "#flattern layer and dense layer\n",
        "model.add(Flatten())\n",
        "model.add(Dense(512, activation='relu'))\n",
        "model.add(Dropout(0.25))\n",
        "model.add(Dense(1024, activation='relu'))\n",
        "model.add(Dropout(0.5))\n",
        "model.add(Dense(10, activation='softmax'))"
      ],
      "execution_count": null,
      "outputs": []
    },
    {
      "cell_type": "code",
      "metadata": {
        "id": "CvP7pKAP9xUQ",
        "colab_type": "code",
        "colab": {}
      },
      "source": [
        "from keras.preprocessing.image  import ImageDataGenerator\n",
        "train_data=ImageDataGenerator(rescale=1./255,shear_range=0.2,zoom_range=0.2,horizontal_flip=True)\n",
        "test_data=ImageDataGenerator(rescale=1./255)\n",
        "datagen = ImageDataGenerator(featurewise_center=False,\n",
        "                            samplewise_center=False,\n",
        "                            featurewise_std_normalization=False,\n",
        "                            samplewise_std_normalization=False,\n",
        "                            zca_whitening=False,\n",
        "                            rotation_range=15,\n",
        "                            width_shift_range=0.1,\n",
        "                            height_shift_range=0.1,\n",
        "                            horizontal_flip=True,\n",
        "                            vertical_flip=False)\n",
        "\n",
        "datagen.fit(X_train)"
      ],
      "execution_count": null,
      "outputs": []
    },
    {
      "cell_type": "code",
      "metadata": {
        "id": "GV5HM_Dy91v5",
        "colab_type": "code",
        "colab": {}
      },
      "source": [
        "#model compile and fit \n",
        "from keras.optimizers import Adam\n",
        "model.compile(loss='categorical_crossentropy',optimizer=Adam(lr=0.0003, decay=1e-4),metrics=['accuracy'])"
      ],
      "execution_count": null,
      "outputs": []
    },
    {
      "cell_type": "code",
      "metadata": {
        "id": "MHJ2v4lt94-H",
        "colab_type": "code",
        "colab": {}
      },
      "source": [
        "                           \n",
        "hist = model.fit_generator(datagen.flow(X_train, y_train, batch_size=128),\n",
        "                           #steps_per_epoch=200,\n",
        "                           epochs=10, #Increase this when not on Kaggle kernel\n",
        "                           verbose=2,  #1 for ETA, 0 for silent\n",
        "                           validation_data=(X_valid, y_valid)) #For speed\n",
        "                           #callbacks=[annealer])\n",
        "final_loss, final_acc = model.evaluate(X_valid, y_valid, verbose=0)\n",
        "print(\"Final loss: {0:.4f}, final accuracy: {1:.4f}\".format(final_loss, final_acc))"
      ],
      "execution_count": null,
      "outputs": []
    },
    {
      "cell_type": "code",
      "metadata": {
        "id": "9YSwDmSLnaiJ",
        "colab_type": "code",
        "colab": {}
      },
      "source": [
        "#save your model \n",
        "import pickle\n",
        "pickle.dump(model,open('file.pk1','wb'))   #here object  is model, write binary first write the \n",
        "file=pickle.load(open('file.pk1','rb'))    #load model with read mode  and initialize with var "
      ],
      "execution_count": null,
      "outputs": []
    },
    {
      "cell_type": "code",
      "metadata": {
        "id": "ramLJJS1nagF",
        "colab_type": "code",
        "colab": {}
      },
      "source": [
        "file.predict('')   #now model is load and ready to predict \n"
      ],
      "execution_count": null,
      "outputs": []
    },
    {
      "cell_type": "code",
      "metadata": {
        "id": "-bdmC18pnacf",
        "colab_type": "code",
        "colab": {}
      },
      "source": [
        ""
      ],
      "execution_count": null,
      "outputs": []
    },
    {
      "cell_type": "code",
      "metadata": {
        "id": "TxHG9-ydoqbf",
        "colab_type": "code",
        "colab": {}
      },
      "source": [
        "file.predict('')"
      ],
      "execution_count": null,
      "outputs": []
    },
    {
      "cell_type": "code",
      "metadata": {
        "id": "t5PWkteelpdH",
        "colab_type": "code",
        "colab": {}
      },
      "source": [
        "#take pictures from camera \n",
        "#convert rgb into gray\n",
        "file = cv2.imread('/content/photo.jpg')\n",
        "file = cv2.resize(file, (28, 28))\n",
        "file = cv2.cvtColor(file, cv2.COLOR_BGR2GRAY)\n",
        "file = file.reshape((-1, 28, 28,1))"
      ],
      "execution_count": null,
      "outputs": []
    },
    {
      "cell_type": "code",
      "metadata": {
        "id": "FCENvMvcv64G",
        "colab_type": "code",
        "colab": {}
      },
      "source": [
        "#plot pic\n",
        "import matplotlib.pyplot as plt\n",
        "plt.figure()\n",
        "plt.imshow(file.reshape(28,28))"
      ],
      "execution_count": null,
      "outputs": []
    },
    {
      "cell_type": "code",
      "metadata": {
        "id": "4fcLK7HTjQCW",
        "colab_type": "code",
        "colab": {}
      },
      "source": [
        "#predict that picture \n",
        "rslt=model.predict(file)\n"
      ],
      "execution_count": null,
      "outputs": []
    },
    {
      "cell_type": "code",
      "metadata": {
        "id": "KvGwYlPkDbAg",
        "colab_type": "code",
        "colab": {}
      },
      "source": [
        "\n",
        "if rslt[0][0]==1.0:\n",
        "  print(\"1\")\n",
        "elif rslt[0][1]==1.0:\n",
        "  print(\"2\")\n",
        "elif rslt[0][2]==1.0:\n",
        "  print(\"3\")\n",
        "elif rslt[0][3]==1.0:\n",
        "  print(\"4\")\n",
        "elif rslt[0][4]==1.0:\n",
        "  print(\"5\")\n",
        "elif rslt[0][5]==1.0:\n",
        "  print(\"6\")\n",
        "elif rslt[0][6]==1.0:\n",
        "  print(\"7\")\n",
        "elif rslt[0][7]==1.0:\n",
        "  print(\"8\")\n",
        "elif rslt[0][8]==1.0:\n",
        "  print(\"9\")\n",
        "else:\n",
        "  print(\"unknown class\")"
      ],
      "execution_count": null,
      "outputs": []
    },
    {
      "cell_type": "code",
      "metadata": {
        "id": "I4jWcE--v1Vc",
        "colab_type": "code",
        "colab": {}
      },
      "source": [
        "#2 option  \n",
        "import numpy as np\n",
        "from keras.preprocessing import image\n",
        "img_pred=image.load_img('/content/photo.jpg',target_size=(28,28))\n",
        "img_pred=image.img_to_array(img_pred)\n",
        "img_pred=np.expand_dims(img_pred,axis=0)\n",
        "rslt=model.predict(img_pred)"
      ],
      "execution_count": null,
      "outputs": []
    },
    {
      "cell_type": "code",
      "metadata": {
        "id": "FT20PihkTdzG",
        "colab_type": "code",
        "colab": {}
      },
      "source": [
        "X_train=train_data.flow_from_directory('/content/drive/My Drive/cat_dog_cnn/PetImages',target_size=(64,64),batch_size=128)"
      ],
      "execution_count": null,
      "outputs": []
    },
    {
      "cell_type": "code",
      "metadata": {
        "id": "UoMG9bro3K5f",
        "colab_type": "code",
        "colab": {}
      },
      "source": [
        "from google.colab import drive\n",
        "drive.mount('/content/drive')"
      ],
      "execution_count": null,
      "outputs": []
    },
    {
      "cell_type": "code",
      "metadata": {
        "id": "ZBmWZfrL8-Tt",
        "colab_type": "code",
        "colab": {}
      },
      "source": [
        "#1\n",
        "model1=Sequential()\n",
        "model1.add(Conv2D(filters = 16, kernel_size = (3, 3), activation='relu',\n",
        "                 input_shape = (64, 64, 3)))\n",
        "model1.add(BatchNormalization())\n",
        "#2\n",
        "model1.add(Conv2D(filters = 16, kernel_size = (3, 3), activation='relu'))\n",
        "model1.add(BatchNormalization())\n",
        "#3\n",
        "model1.add(Conv2D(filters = 16, kernel_size = (3, 3), activation='relu'))\n",
        "model1.add(BatchNormalization())\n",
        "#4\n",
        "model1.add(Conv2D(filters = 16, kernel_size = (3, 3), activation='relu'))\n",
        "model1.add(BatchNormalization())\n",
        "model1.add(MaxPool2D(strides=(2,2)))\n",
        "model1.add(Dropout(0.25))\n",
        "#5\n",
        "model1.add(Conv2D(filters = 32, kernel_size = (3, 3), activation='relu'))\n",
        "model1.add(BatchNormalization())\n",
        "model1.add(MaxPool2D(strides=(2,2)))\n",
        "model1.add(Dropout(0.25))\n",
        "#flattern layer and dense layer\n",
        "model1.add(Flatten())\n",
        "model1.add(Dense(512, activation='relu'))\n",
        "model1.add(Dropout(0.25))\n",
        "model1.add(Dense(1024, activation='relu'))\n",
        "model1.add(Dropout(0.5))\n",
        "model1.add(Dense(5, activation='softmax'))"
      ],
      "execution_count": null,
      "outputs": []
    },
    {
      "cell_type": "code",
      "metadata": {
        "id": "s0B6ZktG-eJ2",
        "colab_type": "code",
        "colab": {}
      },
      "source": [
        "model1.compile(loss='categorical_crossentropy',optimizer=Adam(lr=0.0003, decay=1e-4),metrics=['accuracy'])"
      ],
      "execution_count": null,
      "outputs": []
    },
    {
      "cell_type": "code",
      "metadata": {
        "id": "oBMsEIXT3bn7",
        "colab_type": "code",
        "colab": {}
      },
      "source": [
        "test_data=test_data.flow_from_directory('/content/drive/My Drive/cat_dog_cnn/PetImages/test_image',target_size=(64,64),batch_size=128)"
      ],
      "execution_count": null,
      "outputs": []
    },
    {
      "cell_type": "code",
      "metadata": {
        "id": "YE0Im6YV46Ri",
        "colab_type": "code",
        "colab": {}
      },
      "source": [
        "model1.fit_generator(X_train,epochs=10,validation_data=test_data)"
      ],
      "execution_count": null,
      "outputs": []
    },
    {
      "cell_type": "code",
      "metadata": {
        "id": "_YBYs1zS5GHe",
        "colab_type": "code",
        "colab": {}
      },
      "source": [
        "#convert image in to array\n",
        "import cv2\n",
        "def read_img(img_path):\n",
        "    global img\n",
        "    img = cv2.imread(img_path, cv2.IMREAD_COLOR)\n",
        "    img = cv2.resize(img, (64,64))\n",
        "    return img"
      ],
      "execution_count": null,
      "outputs": []
    },
    {
      "cell_type": "code",
      "metadata": {
        "id": "re0h_v4S-1Ae",
        "colab_type": "code",
        "colab": {}
      },
      "source": [
        "read_img('/content/photo.jpg')\n",
        "img.shape\n"
      ],
      "execution_count": null,
      "outputs": []
    },
    {
      "cell_type": "code",
      "metadata": {
        "id": "XVSldyMY_i1_",
        "colab_type": "code",
        "colab": {}
      },
      "source": [
        "file = cv2.imread('/content/photo.jpg')\n",
        "file = cv2.resize(file, (64,64))\n",
        "#file = cv2.cvtColor(file, cv2.COLOR_BGR2GRAY)\n",
        "file = file.reshape((-1, 64, 64,3))"
      ],
      "execution_count": null,
      "outputs": []
    },
    {
      "cell_type": "code",
      "metadata": {
        "id": "SnPzZvTa_oDV",
        "colab_type": "code",
        "colab": {}
      },
      "source": [
        "#import numpy as np\n",
        "#from keras.preprocessing import image\n",
        "#img_pred=image.load_img('/content/drive/My Drive/cat_dog_cnn/PetImages/Dog/1.jpg',target_size=(64,64))\n",
        "#img_pred=image.img_to_array(img)\n",
        "#img_pred=np.expand_dims(img_pred,axis=0)\n",
        "#rslt=model1.predict(img_pred)"
      ],
      "execution_count": null,
      "outputs": []
    },
    {
      "cell_type": "code",
      "metadata": {
        "id": "XL4-v3rnATkN",
        "colab_type": "code",
        "colab": {}
      },
      "source": [
        "rslt"
      ],
      "execution_count": null,
      "outputs": []
    },
    {
      "cell_type": "code",
      "metadata": {
        "id": "fitRGQlhAX2m",
        "colab_type": "code",
        "colab": {}
      },
      "source": [
        "model1.predict_classes(img)"
      ],
      "execution_count": null,
      "outputs": []
    },
    {
      "cell_type": "code",
      "metadata": {
        "id": "ObqvoCDbAgN8",
        "colab_type": "code",
        "colab": {}
      },
      "source": [
        "model1.predict_classes(file)"
      ],
      "execution_count": null,
      "outputs": []
    },
    {
      "cell_type": "code",
      "metadata": {
        "id": "JUuX9JB0AoLu",
        "colab_type": "code",
        "colab": {}
      },
      "source": [
        "plt.imshow(file)"
      ],
      "execution_count": null,
      "outputs": []
    },
    {
      "cell_type": "code",
      "metadata": {
        "id": "y4vCU_0VA5sD",
        "colab_type": "code",
        "colab": {}
      },
      "source": [
        "import numpy as np\n",
        "from PIL import Image\n",
        "import matplotlib.pyplot as plt\n",
        "\n",
        "img = Image.open('photo.jpg').convert('LA')\n",
        "img.save('greyscale.png')\n",
        "\n",
        "plt.imshow(img,cmap='gray', vmin=0, vmax=255)"
      ],
      "execution_count": null,
      "outputs": []
    },
    {
      "cell_type": "code",
      "metadata": {
        "id": "KmtIqaOXUjIy",
        "colab_type": "code",
        "colab": {}
      },
      "source": [
        "model_json = model.to_json()\n",
        "\n",
        "# serialize weights to HDF5\n",
        "model.save_weights(\"model.h5\")\n",
        "print(\"Saved model to disk\")\n",
        " \n",
        "# later...\n",
        " \n",
        "# load json and create model\n",
        "json_file = open('model.json', 'r')\n",
        "loaded_model_json = json_file.read()\n",
        "json_file.close()\n",
        "loaded_model = model_from_json(loaded_model_json)\n",
        "# load weights into new model\n",
        "loaded_model.load_weights(\"model.h5\")"
      ],
      "execution_count": null,
      "outputs": []
    },
    {
      "cell_type": "code",
      "metadata": {
        "id": "mHiDs2FZVGa7",
        "colab_type": "code",
        "colab": {}
      },
      "source": [
        "loaded_model.predict(file)"
      ],
      "execution_count": null,
      "outputs": []
    },
    {
      "cell_type": "code",
      "metadata": {
        "id": "spab9kGNVtUa",
        "colab_type": "code",
        "colab": {}
      },
      "source": [
        "from keras.models import load_model \n",
        "model.save(\"cnn1.h5\") \n",
        "#loaded_model = load_model(\"cnn1.h5\") "
      ],
      "execution_count": null,
      "outputs": []
    },
    {
      "cell_type": "code",
      "metadata": {
        "id": "hEp_1wtnXI-o",
        "colab_type": "code",
        "colab": {}
      },
      "source": [
        "!pip install flask-ngrok\n"
      ],
      "execution_count": null,
      "outputs": []
    },
    {
      "cell_type": "code",
      "metadata": {
        "id": "y9pH-HtgYXSR",
        "colab_type": "code",
        "colab": {}
      },
      "source": [
        "from flask_ngrok import run_with_ngrok\n",
        "from flask import Flask\n",
        "app = Flask(__name__)\n",
        "run_with_ngrok(app)   #starts ngrok when the app is run\n",
        "@app.route(\"/\")\n",
        "def home():\n",
        "    return \"<h1>Running Flask on Google Colab!</h1>\"\n",
        "  \n",
        "app.run()"
      ],
      "execution_count": null,
      "outputs": []
    },
    {
      "cell_type": "code",
      "metadata": {
        "id": "KQ_9wAtJYbPZ",
        "colab_type": "code",
        "colab": {}
      },
      "source": [
        ""
      ],
      "execution_count": null,
      "outputs": []
    }
  ]
}